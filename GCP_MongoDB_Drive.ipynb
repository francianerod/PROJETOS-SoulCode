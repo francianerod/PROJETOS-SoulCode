{
  "nbformat": 4,
  "nbformat_minor": 0,
  "metadata": {
    "colab": {
      "provenance": [],
      "include_colab_link": true
    },
    "kernelspec": {
      "name": "python3",
      "display_name": "Python 3"
    },
    "language_info": {
      "name": "python"
    }
  },
  "cells": [
    {
      "cell_type": "markdown",
      "metadata": {
        "id": "view-in-github",
        "colab_type": "text"
      },
      "source": [
        "<a href=\"https://colab.research.google.com/github/francianerod/PROJETOS-SoulCode/blob/main/GCP_MongoDB_Drive.ipynb\" target=\"_parent\"><img src=\"https://colab.research.google.com/assets/colab-badge.svg\" alt=\"Open In Colab\"/></a>"
      ]
    },
    {
      "cell_type": "code",
      "source": [
        "# Coloque as chaves GCP e MongoDB"
      ],
      "metadata": {
        "id": "Scox7VCkwqrE"
      },
      "execution_count": null,
      "outputs": []
    },
    {
      "cell_type": "code",
      "source": [
        "!pip install gcsfs\n",
        "!pip install pymongo   #- Modo 1\n",
        "#!python -m pip install pymongo -  Modo 2"
      ],
      "metadata": {
        "id": "EY-rFWp2poiH"
      },
      "execution_count": null,
      "outputs": []
    },
    {
      "cell_type": "code",
      "source": [
        "# Abertura de bibliotecas de manipulação e análise\n",
        "import pandas as pd\n",
        "import numpy as np\n",
        "\n",
        "# Abertura de bibliotecas de conectores\n",
        "import os\n",
        "from google.cloud import storage\n",
        "from pymongo import MongoClient"
      ],
      "metadata": {
        "id": "bXfHEr0Tp7-f"
      },
      "execution_count": null,
      "outputs": []
    },
    {
      "cell_type": "markdown",
      "source": [
        "### **Google Drive**"
      ],
      "metadata": {
        "id": "RAAGzOkAMyQF"
      }
    },
    {
      "cell_type": "code",
      "source": [
        "# Comando de abertura para Google Drive\n",
        "#from google.colab import drive\n",
        "#drive.mount('/content/drive')"
      ],
      "metadata": {
        "id": "oF9xlGMYjpun"
      },
      "execution_count": null,
      "outputs": []
    },
    {
      "cell_type": "code",
      "source": [
        "# Extração por Google Drive\n",
        "#df = pd.read_csv('/content/drive/MyDrive/Semana 6 - Python para Análise de Dados/cenipa_bruto.csv',\n",
        "#                 sep=';',\n",
        "#                 encoding='ISO-8859-1',\n",
        "#                 dayfirst = True)"
      ],
      "metadata": {
        "id": "IdN8Nc-ak_JX"
      },
      "execution_count": null,
      "outputs": []
    },
    {
      "cell_type": "markdown",
      "source": [
        "### **Google Cloud**\n",
        "\n",
        "*   Documentação: https://cloud.google.com/docs/authentication?hl=pt-br"
      ],
      "metadata": {
        "id": "SSVecAGoNVPo"
      }
    },
    {
      "cell_type": "code",
      "source": [
        "# CONFIGURANDO DA CHAVE DE SEGURANCA - ACESSO O PROJETO\n",
        "serviceAccount = '/content/projetos-aula-74e75b6c6573.json'\n",
        "os.environ['GOOGLE_APPLICATION_CREDENTIALS'] = serviceAccount"
      ],
      "metadata": {
        "id": "0-b2vKVQunWw"
      },
      "execution_count": null,
      "outputs": []
    },
    {
      "cell_type": "code",
      "source": [
        "# Configurações Google Cloud Storage - ACESSO AO BUCKET\n",
        "client = storage.Client()\n",
        "bucket = client.get_bucket('projetos-aula')\n",
        "bucket.blob('cenipa_bruto.csv')\n",
        "path = 'gs://projetos-aula/projeto-cenipa/bruto/cenipa_bruto.csv'"
      ],
      "metadata": {
        "id": "Mi_INTjZNbBn"
      },
      "execution_count": null,
      "outputs": []
    },
    {
      "cell_type": "code",
      "source": [
        "# Abertura da base de dados e cópia de segurança (bucket)\n",
        "df = pd.read_csv(path,\n",
        "                 sep=';',\n",
        "                 encoding='ISO-8859-1',\n",
        "                 dayfirst = True)\n",
        "dfback = df.copy()"
      ],
      "metadata": {
        "id": "hNZiDRgyNatg"
      },
      "execution_count": null,
      "outputs": []
    },
    {
      "cell_type": "markdown",
      "source": [
        "## **MongoDB**"
      ],
      "metadata": {
        "id": "buEHC-EHvqSP"
      }
    },
    {
      "cell_type": "code",
      "source": [
        "\"\"\"\n",
        "COLE SEU CONECTOR AQUI\n",
        "\n",
        "from pymongo import MongoClient\n",
        "\n",
        "uri = \"mongodb+srv://cluster0.kvilztb.mongodb.net/?authSource=%24external&authMechanism=MONGODB-X509&retryWrites=true&w=majority\"\n",
        "client = MongoClient(uri,\n",
        "                     tls=True,\n",
        "                     tlsCertificateKeyFile='<path_to_certificate>',\n",
        "                     server_api=ServerApi('1'))\n",
        "\n",
        "db = client['testDB']\n",
        "collection = db['testCol']\n",
        "doc_count = collection.count_documents({})\n",
        "print(doc_count)\n",
        "    \"\"\""
      ],
      "metadata": {
        "id": "Sz9yCTKDpjpd"
      },
      "execution_count": null,
      "outputs": []
    },
    {
      "cell_type": "code",
      "source": [
        "# Conector MongoDB\n",
        "uri = \"mongodb+srv://cluster0.kvilztb.mongodb.net/?authSource=%24external&authMechanism=MONGODB-X509&retryWrites=true&w=majority\" # Faça a cópia do Seu CÓDIGO URI\n",
        "client = MongoClient(uri, tls=True, tlsCertificateKeyFile='/content/X509-cert-5781360384442289393.pem') # Colque SUA CHAVE"
      ],
      "metadata": {
        "id": "LeCJPonf7f5L"
      },
      "execution_count": null,
      "outputs": []
    },
    {
      "cell_type": "code",
      "source": [
        "# Escolhendo a base de dados e coleção\n",
        "db = client['pandasmongo']\n",
        "collection = db['brutos']"
      ],
      "metadata": {
        "id": "9xObaxiH-igA"
      },
      "execution_count": null,
      "outputs": []
    },
    {
      "cell_type": "code",
      "source": [
        "# Contagem dos documentos - na saída de código tem que dar zero\n",
        "doc_count = collection.count_documents({})\n",
        "print(doc_count)"
      ],
      "metadata": {
        "colab": {
          "base_uri": "https://localhost:8080/"
        },
        "id": "GMQTcWbb-0yx",
        "outputId": "d2895f4c-86ae-456e-c745-a9e3180fa482"
      },
      "execution_count": null,
      "outputs": [
        {
          "output_type": "stream",
          "name": "stdout",
          "text": [
            "33845\n"
          ]
        }
      ]
    },
    {
      "cell_type": "code",
      "source": [
        "# Abertura da base de dados e cópia de segurança (bucket)\n",
        "df = pd.read_csv(path,\n",
        "                 sep=';',\n",
        "                 encoding='ISO-8859-1',\n",
        "                 dayfirst = True)\n",
        "dfback = df.copy()"
      ],
      "metadata": {
        "id": "dPlZsV0hBFL5"
      },
      "execution_count": null,
      "outputs": []
    },
    {
      "cell_type": "code",
      "source": [
        "# Conversão para colocar no MongoDB\n",
        "df_dict = df.to_dict(\"records\")\n",
        "collection.insert_many(df_dict)"
      ],
      "metadata": {
        "id": "qapgjOqoBGw7"
      },
      "execution_count": null,
      "outputs": []
    },
    {
      "cell_type": "code",
      "source": [
        "# Checagem de valores no MongoDB\n",
        "collection.count_documents({})"
      ],
      "metadata": {
        "id": "UF4hnCd3BUQU"
      },
      "execution_count": null,
      "outputs": []
    },
    {
      "cell_type": "code",
      "source": [
        "# Checagem da coleção do MongoDB\n",
        "for x in collection.find():\n",
        "  print(x)"
      ],
      "metadata": {
        "id": "sj_bLO07BtMZ"
      },
      "execution_count": null,
      "outputs": []
    },
    {
      "cell_type": "markdown",
      "source": [
        "##**Tratamento**"
      ],
      "metadata": {
        "id": "olFQE_GdCKRw"
      }
    },
    {
      "cell_type": "code",
      "source": [
        "path = 'gs://projetos-aula/projeto-cenipa/tratado/cenipa_tratado.csv'\n",
        "df = pd.read_csv(path,\n",
        "                 sep=',',\n",
        "                 encoding='ISO-8859-1',\n",
        "                 )"
      ],
      "metadata": {
        "id": "Z-6GJeOICCTQ"
      },
      "execution_count": null,
      "outputs": []
    },
    {
      "cell_type": "markdown",
      "source": [
        "## **Carregamento**"
      ],
      "metadata": {
        "id": "9oLQt6oPxj0W"
      }
    },
    {
      "cell_type": "code",
      "source": [
        "# Exportação no Google Drive.\n",
        "#df.to_csv('cenipa_tratado.csv', index=False)"
      ],
      "metadata": {
        "id": "nZGl43nxxnvH"
      },
      "execution_count": null,
      "outputs": []
    },
    {
      "cell_type": "code",
      "source": [
        "# Google Cloud\n",
        "#df.to_csv('gs://projetos-aula/projeto-cenipa/tratado/cenipa_tratado.csv', index=False) # salva no bucket"
      ],
      "metadata": {
        "id": "fvI1sD1_xmak"
      },
      "execution_count": null,
      "outputs": []
    },
    {
      "cell_type": "code",
      "source": [
        "# Carregamento no MongoDB\n",
        "db2 = client['pandasmongo']\n",
        "collection2 = db2['tratados']\n",
        "collection2.count_documents({})"
      ],
      "metadata": {
        "id": "NEiCv_9q_9Nz"
      },
      "execution_count": null,
      "outputs": []
    },
    {
      "cell_type": "code",
      "source": [
        "# Conversão de dados para MongoDB\n",
        "df_dict = df.to_dict(\"records\")\n",
        "collection2.insert_many(df_dict)"
      ],
      "metadata": {
        "id": "tr-IgxIdAA8S"
      },
      "execution_count": null,
      "outputs": []
    },
    {
      "cell_type": "code",
      "source": [
        "# Contagem de dados: verificação\n",
        "collection2.count_documents({})"
      ],
      "metadata": {
        "id": "0cuLml0dACbI"
      },
      "execution_count": null,
      "outputs": []
    },
    {
      "cell_type": "code",
      "source": [
        "# Checagem da coleção\n",
        "for x in collection2.find():\n",
        "  print(x)"
      ],
      "metadata": {
        "id": "CZIlSJGmAEPY"
      },
      "execution_count": null,
      "outputs": []
    }
  ]
}