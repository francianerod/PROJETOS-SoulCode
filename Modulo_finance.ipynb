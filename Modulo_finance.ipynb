{
  "nbformat": 4,
  "nbformat_minor": 0,
  "metadata": {
    "colab": {
      "provenance": [],
      "authorship_tag": "ABX9TyNkKfB7A7cKbTB7y5NBmCvz",
      "include_colab_link": true
    },
    "kernelspec": {
      "name": "python3",
      "display_name": "Python 3"
    },
    "language_info": {
      "name": "python"
    }
  },
  "cells": [
    {
      "cell_type": "markdown",
      "metadata": {
        "id": "view-in-github",
        "colab_type": "text"
      },
      "source": [
        "<a href=\"https://colab.research.google.com/github/francianerod/PROJETOS-SoulCode/blob/main/Modulo_finance.ipynb\" target=\"_parent\"><img src=\"https://colab.research.google.com/assets/colab-badge.svg\" alt=\"Open In Colab\"/></a>"
      ]
    },
    {
      "cell_type": "markdown",
      "source": [
        "# **Módulo**\n",
        "\n",
        "Código abaixo deverá ser usado em \"Fundamentos de Python - Módulo\""
      ],
      "metadata": {
        "id": "c3XWif1CI6C3"
      }
    },
    {
      "cell_type": "markdown",
      "source": [
        "O código abaixo é uma função em Python chamada pgto que calcula o valor das parcelas de um empréstimo ou financiamento, utilizando a fórmula de pagamento de uma anuidade ordinária. Aqui estão os passos principais do que o código faz:\n",
        "\n",
        "1.  Pede ao usuário para inserir o valor financiado (pv) em Reais.\n",
        "\n",
        "2.  Utiliza um loop while e um bloco try-except para garantir que o valor inserido seja um número válido. Se o usuário inserir um valor inválido (não numérico), uma mensagem é exibida, e o usuário é solicitado a inserir o valor novamente.\n",
        "\n",
        "3.  Pede ao usuário para inserir o número de parcelas (n) e a taxa de juros por período (i).\n",
        "\n",
        "4.  Novamente, utiliza um loop while e um bloco try-except para garantir que os valores inseridos para o número de parcelas e taxa de juros sejam números inteiros válidos. Se o usuário inserir valores inválidos, mensagens são exibidas, e o usuário é solicitado a inserir os valores novamente.\n",
        "\n",
        "5.  Calcula o valor da parcela (pmt) usando a fórmula da anuidade ordinária.\n",
        "Imprime na tela o número de parcelas e o valor de cada parcela."
      ],
      "metadata": {
        "id": "gp9CUyobIdRz"
      }
    },
    {
      "cell_type": "code",
      "execution_count": null,
      "metadata": {
        "id": "S3j95V00IIBJ"
      },
      "outputs": [],
      "source": [
        "def pgto():\n",
        "    while True:\n",
        "        try:\n",
        "            pv = float(input('Informe o valor financiado em R$: '))\n",
        "            break\n",
        "        except ValueError:\n",
        "            print('O valor digitado não é válido. Por favor, digite um número válido.')\n",
        "\n",
        "    while True:\n",
        "        try:\n",
        "            n = int(input('Informe o número de parcelas por período: '))\n",
        "            i = float(input('Informe a taxa de juros em % no mesmo período das parcelas: ')) / 100\n",
        "            break\n",
        "        except ValueError:\n",
        "            print('O valor digitado não é válido. Por favor, digite um número inteiro válido.')\n",
        "\n",
        "    pmt = pv * ((((1 + i) ** n) * i) / (((1 + i) ** n) - 1))\n",
        "    print(f'Você pagará {n} parcelas de R$: {pmt:.2f} cada.')"
      ]
    },
    {
      "cell_type": "code",
      "source": [
        "# Exemplo de chamada da função\n",
        "pgto()"
      ],
      "metadata": {
        "id": "5r2gCxa5IRAD"
      },
      "execution_count": null,
      "outputs": []
    }
  ]
}